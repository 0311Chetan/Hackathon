{
 "cells": [
  {
   "cell_type": "code",
   "execution_count": 1,
   "id": "13616fb6",
   "metadata": {},
   "outputs": [],
   "source": [
    "import cv2\n",
    "import numpy as np\n",
    "\n",
    "class VehicleDetector:\n",
    "\n",
    "    def __init__(self):\n",
    "        # Load Network\n",
    "        net = cv2.dnn.readNet(\"best.pt\")\n",
    "        self.model = cv2.dnn_DetectionModel(net)\n",
    "        self.model.setInputParams(size=(832, 832), scale=1 / 255)\n",
    "\n",
    "\n",
    "        # Allow classes containing Vehicles only\n",
    "        self.classes_allowed = [2, 3, 5, 6, 7]\n",
    "\n",
    "\n",
    "    def detect_vehicles(self, img):\n",
    "        # Detect Objects\n",
    "        vehicles_boxes = []\n",
    "        class_ids, scores, boxes = self.model.detect(img, nmsThreshold=0.4)\n",
    "        for class_id, score, box in zip(class_ids, scores, boxes):\n",
    "            if score < 0.5:\n",
    "                # Skip detection with low confidence\n",
    "                continue\n",
    "\n",
    "            if class_id in self.classes_allowed:\n",
    "                vehicles_boxes.append(box)\n",
    "\n",
    "        return vehicles_boxes\n",
    "    \n"
   ]
  },
  {
   "cell_type": "code",
   "execution_count": 3,
   "id": "db58f24d",
   "metadata": {},
   "outputs": [
    {
     "ename": "error",
     "evalue": "OpenCV(4.6.0) D:\\a\\opencv-python\\opencv-python\\opencv\\modules\\dnn\\src\\dnn_read.cpp:52: error: (-2:Unspecified error) Cannot determine an origin framework of files: best.pt in function 'cv::dnn::dnn4_v20220524::readNet'\n",
     "output_type": "error",
     "traceback": [
      "\u001b[1;31m---------------------------------------------------------------------------\u001b[0m",
      "\u001b[1;31merror\u001b[0m                                     Traceback (most recent call last)",
      "\u001b[1;32m~\\AppData\\Local\\Temp/ipykernel_2332/342744086.py\u001b[0m in \u001b[0;36m<module>\u001b[1;34m\u001b[0m\n\u001b[0;32m      4\u001b[0m \u001b[1;32mfrom\u001b[0m \u001b[0mvehicle_detector\u001b[0m \u001b[1;32mimport\u001b[0m \u001b[0mVehicleDetector\u001b[0m\u001b[1;33m\u001b[0m\u001b[1;33m\u001b[0m\u001b[0m\n\u001b[0;32m      5\u001b[0m \u001b[1;31m# Load Veichle Detector\u001b[0m\u001b[1;33m\u001b[0m\u001b[1;33m\u001b[0m\u001b[0m\n\u001b[1;32m----> 6\u001b[1;33m \u001b[0mvd\u001b[0m \u001b[1;33m=\u001b[0m \u001b[0mVehicleDetector\u001b[0m\u001b[1;33m(\u001b[0m\u001b[1;33m)\u001b[0m\u001b[1;33m\u001b[0m\u001b[1;33m\u001b[0m\u001b[0m\n\u001b[0m\u001b[0;32m      7\u001b[0m \u001b[1;33m\u001b[0m\u001b[0m\n\u001b[0;32m      8\u001b[0m \u001b[0mcap\u001b[0m \u001b[1;33m=\u001b[0m \u001b[0mcv2\u001b[0m\u001b[1;33m.\u001b[0m\u001b[0mVideoCapture\u001b[0m\u001b[1;33m(\u001b[0m\u001b[1;34m'video.mp4'\u001b[0m\u001b[1;33m)\u001b[0m\u001b[1;33m\u001b[0m\u001b[1;33m\u001b[0m\u001b[0m\n",
      "\u001b[1;32m~\\Hackathon\\yolov5\\vehicle_detector.py\u001b[0m in \u001b[0;36m__init__\u001b[1;34m(self)\u001b[0m\n\u001b[0;32m      6\u001b[0m     \u001b[1;32mdef\u001b[0m \u001b[0m__init__\u001b[0m\u001b[1;33m(\u001b[0m\u001b[0mself\u001b[0m\u001b[1;33m)\u001b[0m\u001b[1;33m:\u001b[0m\u001b[1;33m\u001b[0m\u001b[1;33m\u001b[0m\u001b[0m\n\u001b[0;32m      7\u001b[0m         \u001b[1;31m# Load Network\u001b[0m\u001b[1;33m\u001b[0m\u001b[1;33m\u001b[0m\u001b[0m\n\u001b[1;32m----> 8\u001b[1;33m         \u001b[0mnet\u001b[0m \u001b[1;33m=\u001b[0m \u001b[0mcv2\u001b[0m\u001b[1;33m.\u001b[0m\u001b[0mdnn\u001b[0m\u001b[1;33m.\u001b[0m\u001b[0mreadNet\u001b[0m\u001b[1;33m(\u001b[0m\u001b[1;34m\"best.pt\"\u001b[0m\u001b[1;33m)\u001b[0m\u001b[1;33m\u001b[0m\u001b[1;33m\u001b[0m\u001b[0m\n\u001b[0m\u001b[0;32m      9\u001b[0m         \u001b[0mself\u001b[0m\u001b[1;33m.\u001b[0m\u001b[0mmodel\u001b[0m \u001b[1;33m=\u001b[0m \u001b[0mcv2\u001b[0m\u001b[1;33m.\u001b[0m\u001b[0mdnn_DetectionModel\u001b[0m\u001b[1;33m(\u001b[0m\u001b[0mnet\u001b[0m\u001b[1;33m)\u001b[0m\u001b[1;33m\u001b[0m\u001b[1;33m\u001b[0m\u001b[0m\n\u001b[0;32m     10\u001b[0m         \u001b[0mself\u001b[0m\u001b[1;33m.\u001b[0m\u001b[0mmodel\u001b[0m\u001b[1;33m.\u001b[0m\u001b[0msetInputParams\u001b[0m\u001b[1;33m(\u001b[0m\u001b[0msize\u001b[0m\u001b[1;33m=\u001b[0m\u001b[1;33m(\u001b[0m\u001b[1;36m832\u001b[0m\u001b[1;33m,\u001b[0m \u001b[1;36m832\u001b[0m\u001b[1;33m)\u001b[0m\u001b[1;33m,\u001b[0m \u001b[0mscale\u001b[0m\u001b[1;33m=\u001b[0m\u001b[1;36m1\u001b[0m \u001b[1;33m/\u001b[0m \u001b[1;36m255\u001b[0m\u001b[1;33m)\u001b[0m\u001b[1;33m\u001b[0m\u001b[1;33m\u001b[0m\u001b[0m\n",
      "\u001b[1;31merror\u001b[0m: OpenCV(4.6.0) D:\\a\\opencv-python\\opencv-python\\opencv\\modules\\dnn\\src\\dnn_read.cpp:52: error: (-2:Unspecified error) Cannot determine an origin framework of files: best.pt in function 'cv::dnn::dnn4_v20220524::readNet'\n"
     ]
    }
   ],
   "source": [
    "import cv2\n",
    "import numpy as np\n",
    "\n",
    "from vehicle_detector import VehicleDetector\n",
    "# Load Veichle Detector\n",
    "vd = VehicleDetector()\n",
    "\n",
    "cap = cv2.VideoCapture('video.mp4')\n",
    "# algo = cv2.bgsegm.createBackgroundSubtractorMOG()\n",
    "\n",
    "while True:\n",
    "    ret,frame1=cap.read()\n",
    "    \n",
    "\n",
    "    vehicles_folder_count = 0\n",
    "\n",
    "    vehicle_boxes = vd.detect_vehicles(frame1)\n",
    "    vehicle_count = len(vehicle_boxes)\n",
    "\n",
    "\n",
    "        # Update total count\n",
    "    vehicles_folder_count += vehicle_count\n",
    "\n",
    "    for box in vehicle_boxes:\n",
    "        x, y, w, h = box\n",
    "\n",
    "        cv2.rectangle(frame1, (x, y), (x + w, y + h), (25, 0, 180), 3)\n",
    "\n",
    "        cv2.putText(frame1, \"Vehicles: \" + str(vehicle_count), (20, 50), 1, 2, (0, 0, 0), 3)\n",
    "#         a = vehicle_count\n",
    "\n",
    "    cv2.imshow(\"video Original\",frame1) \n",
    "#     print(a)\n",
    "    if cv2.waitKey(10) == 13:\n",
    "        break\n",
    "#     print('The Lane 1 has vehicle count of :',a)\n",
    "cv2.destroyAllWindows()    "
   ]
  },
  {
   "cell_type": "code",
   "execution_count": null,
   "id": "c0a762ed",
   "metadata": {},
   "outputs": [],
   "source": []
  }
 ],
 "metadata": {
  "kernelspec": {
   "display_name": "Python 3 (ipykernel)",
   "language": "python",
   "name": "python3"
  },
  "language_info": {
   "codemirror_mode": {
    "name": "ipython",
    "version": 3
   },
   "file_extension": ".py",
   "mimetype": "text/x-python",
   "name": "python",
   "nbconvert_exporter": "python",
   "pygments_lexer": "ipython3",
   "version": "3.9.7"
  }
 },
 "nbformat": 4,
 "nbformat_minor": 5
}
